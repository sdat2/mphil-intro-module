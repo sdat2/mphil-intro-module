{
 "cells": [
  {
   "cell_type": "code",
   "execution_count": 1,
   "metadata": {
    "scrolled": true
   },
   "outputs": [
    {
     "ename": "ModuleNotFoundError",
     "evalue": "No module named 'ipywidgets'",
     "output_type": "error",
     "traceback": [
      "\u001b[0;31m---------------------------------------------------------------------\u001b[0m",
      "\u001b[0;31mModuleNotFoundError\u001b[0m                 Traceback (most recent call last)",
      "\u001b[0;32m<ipython-input-1-d8ada0391144>\u001b[0m in \u001b[0;36m<module>\u001b[0;34m\u001b[0m\n\u001b[1;32m      5\u001b[0m \u001b[0;32mimport\u001b[0m \u001b[0msys\u001b[0m\u001b[0;34m\u001b[0m\u001b[0;34m\u001b[0m\u001b[0m\n\u001b[1;32m      6\u001b[0m \u001b[0msys\u001b[0m\u001b[0;34m.\u001b[0m\u001b[0mpath\u001b[0m\u001b[0;34m.\u001b[0m\u001b[0mappend\u001b[0m\u001b[0;34m(\u001b[0m\u001b[0;34m'..'\u001b[0m\u001b[0;34m)\u001b[0m\u001b[0;34m\u001b[0m\u001b[0;34m\u001b[0m\u001b[0m\n\u001b[0;32m----> 7\u001b[0;31m \u001b[0;32mfrom\u001b[0m \u001b[0mhelper_functions\u001b[0m \u001b[0;32mimport\u001b[0m \u001b[0;34m*\u001b[0m\u001b[0;34m\u001b[0m\u001b[0;34m\u001b[0m\u001b[0m\n\u001b[0m\u001b[1;32m      8\u001b[0m \u001b[0;34m\u001b[0m\u001b[0m\n\u001b[1;32m      9\u001b[0m \u001b[0;31m# set things like fonts etc - comes from helper_functions\u001b[0m\u001b[0;34m\u001b[0m\u001b[0;34m\u001b[0m\u001b[0;34m\u001b[0m\u001b[0m\n",
      "\u001b[0;32m~/mphil-intro-module/helper_functions.py\u001b[0m in \u001b[0;36m<module>\u001b[0;34m\u001b[0m\n\u001b[0;32m----> 1\u001b[0;31m \u001b[0;32mimport\u001b[0m \u001b[0mipywidgets\u001b[0m \u001b[0;32mas\u001b[0m \u001b[0mwidgets\u001b[0m\u001b[0;34m\u001b[0m\u001b[0;34m\u001b[0m\u001b[0m\n\u001b[0m\u001b[1;32m      2\u001b[0m \u001b[0;32mimport\u001b[0m \u001b[0mmatplotlib\u001b[0m\u001b[0;34m.\u001b[0m\u001b[0mpyplot\u001b[0m \u001b[0;32mas\u001b[0m \u001b[0mplt\u001b[0m\u001b[0;34m\u001b[0m\u001b[0;34m\u001b[0m\u001b[0m\n\u001b[1;32m      3\u001b[0m \u001b[0;32mfrom\u001b[0m \u001b[0mIPython\u001b[0m\u001b[0;34m.\u001b[0m\u001b[0mdisplay\u001b[0m \u001b[0;32mimport\u001b[0m \u001b[0mMath\u001b[0m\u001b[0;34m,\u001b[0m \u001b[0mHTML\u001b[0m\u001b[0;34m,\u001b[0m \u001b[0mdisplay\u001b[0m\u001b[0;34m,\u001b[0m \u001b[0mLatex\u001b[0m\u001b[0;34m,\u001b[0m \u001b[0mYouTubeVideo\u001b[0m\u001b[0;34m,\u001b[0m \u001b[0mclear_output\u001b[0m\u001b[0;34m\u001b[0m\u001b[0;34m\u001b[0m\u001b[0m\n\u001b[1;32m      4\u001b[0m \u001b[0;32mimport\u001b[0m \u001b[0mmatplotlib\u001b[0m\u001b[0;34m\u001b[0m\u001b[0;34m\u001b[0m\u001b[0m\n\u001b[1;32m      5\u001b[0m \u001b[0;32mimport\u001b[0m \u001b[0mnumpy\u001b[0m \u001b[0;32mas\u001b[0m \u001b[0mnp\u001b[0m\u001b[0;34m\u001b[0m\u001b[0;34m\u001b[0m\u001b[0m\n",
      "\u001b[0;31mModuleNotFoundError\u001b[0m: No module named 'ipywidgets'"
     ]
    }
   ],
   "source": [
    "%config InlineBackend.figure_format = 'svg' # change output plot display format to 'svg'\n",
    "\n",
    "# import the helper functions from the parent directory,\n",
    "# these help with things like graph plotting and notebook layout\n",
    "import sys\n",
    "sys.path.append('..')\n",
    "from helper_functions import *\n",
    "\n",
    "# set things like fonts etc - comes from helper_functions\n",
    "set_notebook_preferences()\n",
    "\n",
    "# add a show/hide code button - also from helper_functions\n",
    "toggle_code(title = \"import functions\")"
   ]
  },
  {
   "cell_type": "markdown",
   "metadata": {},
   "source": [
    "# Regression \n",
    "\n",
    "Regression is a class of supervised machine learning tasks in which the aim is to predict a **real valued output** $y^\\star$, given an input vector $\\mathbf{x}^\\star$ using a **training set of input-output pairs** $\\{\\mathbf{x}_n, y_n\\}_{n=1}^N$. Each vector $\\mathbf{x}_n$ represents a point in some $D$-dimensional space, where $D$ is the number of input parameters being measured.\n",
    "\n",
    "\n",
    "_Regression Jargon_: The inputs $\\mathbf{x}_n$ are also known as the features, covariates, or independent variables.\n",
    "The outputs $y_n$ are also known as the responses, targets, or dependent variables. \n",
    "\n",
    "[//]: # (The line above might be better as a margin comment)\n",
    "\n",
    "Here's a cartoon regression task for a one-dimensional dataset, i.e. each $\\mathbf{x}_n$ is a one-dimensional vector, or just a scalar value. Often the full solution to a regression task involves returning to the user a best guess for $y^\\star$ along with a measure of uncertainty, the latter being important for decision making. \n",
    "\n",
    "<div class=\"row\">\n",
    "  <div class=\"column\">\n",
    "    <img src=\"intro-regression.svg\" alt=\"Snow\" style=\"width:80%; float: center; padding: 0px; padding : 20px\">\n",
    "  </div>\n",
    "</div>\n",
    "\n",
    "Regression encompasses many different types of input e.g. they can be scalar or multi-dimensional; real valued or discrete. Regression problems lie on a sliding scale from those that involve **interpolation** (the required predictions are typically close to the training data) to **extrapolation** (the required predictions are typically far from the training data). \n",
    "\n",
    "Example regression problems include:\n",
    "\n",
    "[//]: # (The alignment in this table is not working. Also good to add images demonstrating these applications)\n",
    "\n",
    "|Application|Inputs|Outputs| \n",
    "|-|-|-|\n",
    "|computer aided drug design|representation of molecule| biological activity of molecule|  \n",
    "|solar power supply forecasting| time, physical models, satellite images | solar power supply|  \n",
    "|informing health care policy| health care center characteristics|patient treatment outcomes|\n",
    "|image super resolution|low resolution image|high resolution image|\n",
    "|system identification|system's state at time $t-1$|system's state at time $t$|\n",
    "\n",
    "\n",
    "The last two examples above are **multi-output regression problems** which involve predicting a vector of real valued outputs, rather than just a single scalar output. \n",
    "\n",
    "In regression, the predictions themselves may not always be the central focus. For example, in the 'informing health care policy' example, the goal is to assess the contribution from different input variables (health centre funding level, availability of treatments, population demographic etc.) on the treatment outcome. \n",
    "\n",
    "Regression also serves as a good introduction to several cross-cutting concepts in inference and machine learning including *generative models*, *maximum likelihood estimation*, *overfitting* and *probabilistic inference*. \n",
    "\n",
    "## Outline of this section\n",
    "\n",
    "1. [Linear regression](regression_linear.ipynb) \n",
    "\n",
    "  Linear regression, least squares and maximum likelihood fitting <br><br>\n",
    "   \n",
    "2. [Non-linear regression](regression_non_linear.ipynb)\n",
    "\n",
    "  Non-linear regression using basis functions <br><br>\n",
    "  \n",
    "3. [Overfitting in non-linear regression](regression_overfitting.ipynb)\n",
    "\n",
    "  What is overfitting, diagnosis using validation sets <br><br>\n",
    "\n",
    "4. [Regularised non-linear regression](regression_regularisation.ipynb)\n",
    "\n",
    "  Using regularisation to mitigate overfitting, interpretations of regularisation as MAP inference <br><br>\n",
    "\n",
    "5. [Bayesian non-linear regression](regression_bayesian.ipynb)\n",
    "\n",
    "  Bayesian approaches to regression that return uncertainty in the parameter estimates <br><br>\n",
    "\n",
    "6. [Visualising Bayesian linear regression: Online learning](regression_bayesian-online-visualisations.ipynb)\n",
    "\n",
    "  Visualising how the posterior distribution evolves as data arrive <br><br>\n",
    "\n",
    "\n",
    "\n",
    " \n",
    "\n"
   ]
  },
  {
   "cell_type": "code",
   "execution_count": null,
   "metadata": {},
   "outputs": [],
   "source": []
  }
 ],
 "metadata": {
  "kernelspec": {
   "display_name": "Python 3",
   "language": "python",
   "name": "python3"
  },
  "language_info": {
   "codemirror_mode": {
    "name": "ipython",
    "version": 3
   },
   "file_extension": ".py",
   "mimetype": "text/x-python",
   "name": "python",
   "nbconvert_exporter": "python",
   "pygments_lexer": "ipython3",
   "version": "3.7.9"
  }
 },
 "nbformat": 4,
 "nbformat_minor": 2
}
